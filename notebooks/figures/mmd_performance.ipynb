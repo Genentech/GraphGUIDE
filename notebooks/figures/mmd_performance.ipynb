{
 "cells": [
  {
   "cell_type": "code",
   "execution_count": 1,
   "id": "5b894b89",
   "metadata": {},
   "outputs": [],
   "source": [
    "import os\n",
    "import json\n",
    "import numpy as np"
   ]
  },
  {
   "cell_type": "code",
   "execution_count": 2,
   "id": "6f3afe9a",
   "metadata": {},
   "outputs": [],
   "source": [
    "# Define MMD values from other papers\n",
    "\n",
    "metric_list = [\"Degree\", \"Cluster\", \"Spectrum\", \"Orbit\"]\n",
    "\n",
    "benchmark_mmds = {  # From SPECTRE paper\n",
    "    \"Community (small)\": {\n",
    "        \"GraphRNN\": [0.08, 0.12, -1, 0.04],\n",
    "        \"GRAN\": [0.06, 0.11, -1, 0.01],\n",
    "        \"MolGAN\": [0.06, 0.13, -1, 0.01],\n",
    "        \"SPECTRE\": [0.02, 0.21, -1, 0.01]\n",
    "        \n",
    "    },\n",
    "    \"Stochastic block models\": {\n",
    "        \"GraphRNN\": [0.0055, 0.0584, 0.0065, 0.0785],\n",
    "        \"GRAN\": [0.0113, 0.0553, 0.0054, 0.0540],\n",
    "        \"MolGAN\": [0.0235, 0.1161, 0.0117, 0.0712],\n",
    "        \"SPECTRE\": [0.0079, 0.0528, 0.0643, 0.0074]\n",
    "    }\n",
    "}\n",
    "\n",
    "benchmark_mmd_ratios = {  # From DiGress paper\n",
    "    \"Community (small)\": {\n",
    "        \"GraphRNN\": [4.0, 1.7, -1, 4.0],\n",
    "        \"GRAN\": [3.0, 1.6, -1, 1.0],\n",
    "        \"SPECTRE\": [0.5, 2.7, -1, 2.0],\n",
    "        \"DiGress\": [1.0, 0.9, -1, 1.0],\n",
    "        \n",
    "    },\n",
    "    \"Stochastic block models\": {\n",
    "        \"GraphRNN\": [6.9, 1.7, -1, 3.1],\n",
    "        \"GRAN\": [14.1, 1.7, -1, 2.1],\n",
    "        \"SPECTRE\": [1.9, 1.6, -1, 1.6],\n",
    "        \"DiGress\": [1.6, 1.5, -1, 1.7]\n",
    "    }\n",
    "}\n",
    "\n",
    "benchmark_baselines = {  # From SPECTRE paper\n",
    "    \"Community (small)\": [0.02, 0.07, 1, 0.01],\n",
    "    \"Stochastic block models\": [0.0008, 0.0332, 0.0063, 0.0255]\n",
    "}"
   ]
  },
  {
   "cell_type": "code",
   "execution_count": 3,
   "id": "05ea7b2d",
   "metadata": {},
   "outputs": [],
   "source": [
    "def get_best_mmds(run_dir):\n",
    "    # First, get the best run based on last loss\n",
    "    best_loss, best_metrics = float(\"inf\"), None\n",
    "    for run_num in os.listdir(run_dir):\n",
    "        if run_num == \"_sources\":\n",
    "            continue\n",
    "        metrics_path = os.path.join(run_dir, run_num, \"metrics.json\")\n",
    "        with open(metrics_path, \"r\") as f:\n",
    "            metrics = json.load(f)\n",
    "        last_loss = metrics[\"train_epoch_loss\"][\"values\"][-1]\n",
    "        if last_loss < best_loss:\n",
    "            best_loss, best_metrics = last_loss, metrics\n",
    "    \n",
    "    # Now return the MMDs and baselines\n",
    "    return (\n",
    "        [\n",
    "            best_metrics[\"degree_mmd\"][\"values\"][0],\n",
    "            best_metrics[\"cluster_coef_mmd\"][\"values\"][0],\n",
    "            best_metrics[\"spectra_mmd\"][\"values\"][0],\n",
    "            best_metrics[\"orbit_mmd\"][\"values\"][0]\n",
    "        ],\n",
    "        [\n",
    "            best_metrics[\"degree_mmd_baseline\"][\"values\"][0],\n",
    "            best_metrics[\"cluster_coef_mmd_baseline\"][\"values\"][0],\n",
    "            best_metrics[\"spectra_mmd_baseline\"][\"values\"][0],\n",
    "            best_metrics[\"orbit_mmd_baseline\"][\"values\"][0]\n",
    "        ]\n",
    "    )"
   ]
  },
  {
   "cell_type": "code",
   "execution_count": 4,
   "id": "aa392c06",
   "metadata": {},
   "outputs": [],
   "source": [
    "# Import MMD and baseline values from training runs\n",
    "\n",
    "base_path = \"/gstore/home/tsenga5/discrete_graph_diffusion/models/trained_models/\"\n",
    "my_mmds_and_baselines = {\n",
    "    \"Community (small)\": {\n",
    "        \"Edge-flip\": get_best_mmds(os.path.join(base_path, \"benchmark_community-small_edge-flip\")),\n",
    "        \"Edge-one\": get_best_mmds(os.path.join(base_path, \"benchmark_community-small_edge-addition\")),\n",
    "        \"Edge-zero\": get_best_mmds(os.path.join(base_path, \"benchmark_community-small_edge-deletion\"))\n",
    "    },\n",
    "    \"Stochastic block models\": {\n",
    "        \"Edge-flip\": get_best_mmds(os.path.join(base_path, \"benchmark_sbm_edge-flip\")),\n",
    "        \"Edge-one\": get_best_mmds(os.path.join(base_path, \"benchmark_sbm_edge-addition\")),\n",
    "        \"Edge-zero\": get_best_mmds(os.path.join(base_path, \"benchmark_sbm_edge-deletion\"))\n",
    "    }\n",
    "}\n",
    "\n",
    "my_mmds = {d_key : {k_key : vals[0] for k_key, vals in d_dict.items()} for d_key, d_dict in my_mmds_and_baselines.items()}\n",
    "my_baselines = {d_key : {k_key : vals[1] for k_key, vals in d_dict.items()} for d_key, d_dict in my_mmds_and_baselines.items()}"
   ]
  },
  {
   "cell_type": "code",
   "execution_count": 5,
   "id": "90b38078",
   "metadata": {},
   "outputs": [
    {
     "name": "stdout",
     "output_type": "stream",
     "text": [
      "Community (small)\n",
      "GraphRNN & 2.00 & 1.31 & 2.00\n",
      "GRAN & 1.73 & 1.25 & 1.00\n",
      "MolGAN & 1.73 & 1.36 & 1.00\n",
      "SPECTRE & 1.00 & 1.73 & 1.00\n",
      "DiGress & 1.00 & 0.95 & 1.00\n",
      "Edge-flip & 0.99 & 0.58 & 2.55\n",
      "Edge-one & 1.21 & 0.62 & 1.83\n",
      "Edge-zero & 1.87 & 1.02 & 4.69\n",
      "=========================\n",
      "Stochastic block models\n",
      "GraphRNN & 2.62 & 1.33 & 1.75\n",
      "GRAN & 3.76 & 1.29 & 1.46\n",
      "MolGAN & 5.42 & 1.87 & 1.67\n",
      "SPECTRE & 3.14 & 1.26 & 0.54\n",
      "DiGress & 1.26 & 1.22 & 1.30\n",
      "Edge-flip & 2.73 & 1.23 & 0.94\n",
      "Edge-one & 1.00 & 1.21 & 0.81\n",
      "Edge-zero & 1.31 & 1.19 & 0.80\n",
      "=========================\n"
     ]
    },
    {
     "name": "stderr",
     "output_type": "stream",
     "text": [
      "/local/60676799/ipykernel_28989/435977596.py:4: RuntimeWarning: invalid value encountered in sqrt\n",
      "  vals =  np.sqrt(vals)\n"
     ]
    }
   ],
   "source": [
    "# Print out results\n",
    "\n",
    "def print_vals(key, vals):\n",
    "    vals =  np.sqrt(vals)\n",
    "    print(\"%s & %.2f & %.2f & %.2f\" % (key, vals[0], vals[1], vals[3]))\n",
    "\n",
    "for d_key in my_mmds.keys():\n",
    "    print(d_key)\n",
    "    \n",
    "    for bm_key, bm_vals in benchmark_mmds[d_key].items():\n",
    "        print_vals(bm_key, np.array(bm_vals) / np.array(benchmark_baselines[d_key]))\n",
    "        # print(bm_key, np.array(bm_vals) / np.array(my_baselines[d_key][\"Edge-flip\"]))\n",
    "#     for bm_key, bm_vals in benchmark_mmd_ratios[d_key].items():\n",
    "#         print(bm_key, np.array(bm_vals))\n",
    "    print_vals(\"DiGress\", np.array(benchmark_mmd_ratios[d_key][\"DiGress\"]))\n",
    "        \n",
    "    for my_key, my_vals in my_mmds[d_key].items():\n",
    "        print_vals(my_key, np.array(my_vals) / np.array(benchmark_baselines[d_key]))\n",
    "#         print(my_key, np.array(my_vals) / np.array(my_baselines[d_key][my_key]))\n",
    "    print(\"=========================\")"
   ]
  }
 ],
 "metadata": {
  "kernelspec": {
   "display_name": "Python 3 (ipykernel)",
   "language": "python",
   "name": "python3"
  },
  "language_info": {
   "codemirror_mode": {
    "name": "ipython",
    "version": 3
   },
   "file_extension": ".py",
   "mimetype": "text/x-python",
   "name": "python",
   "nbconvert_exporter": "python",
   "pygments_lexer": "ipython3",
   "version": "3.8.13"
  }
 },
 "nbformat": 4,
 "nbformat_minor": 5
}
