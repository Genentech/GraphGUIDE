{
 "cells": [
  {
   "cell_type": "code",
   "execution_count": 1,
   "id": "5b894b89",
   "metadata": {},
   "outputs": [],
   "source": [
    "import os\n",
    "import json\n",
    "import numpy as np"
   ]
  },
  {
   "cell_type": "code",
   "execution_count": 8,
   "id": "05ea7b2d",
   "metadata": {},
   "outputs": [],
   "source": [
    "def get_best_mmds(run_dir):\n",
    "    # First, get the best run based on last loss\n",
    "    best_loss, best_metrics = float(\"inf\"), None\n",
    "    for run_num in os.listdir(run_dir):\n",
    "        if run_num == \"_sources\":\n",
    "            continue\n",
    "        metrics_path = os.path.join(run_dir, run_num, \"metrics.json\")\n",
    "        with open(metrics_path, \"r\") as f:\n",
    "            metrics = json.load(f)\n",
    "        try:\n",
    "            last_loss = metrics[\"train_epoch_loss\"][\"values\"][-1]\n",
    "            \n",
    "            # Try and get a metric out\n",
    "            _ = metrics[\"orbit_mmd\"][\"values\"]\n",
    "        except KeyError:\n",
    "            print(\"Warning: Did not find finished run in %s\" % os.path.join(run_dir, run_num))\n",
    "            last_loss = float(\"inf\")\n",
    "        if last_loss < best_loss:\n",
    "            best_loss, best_metrics = last_loss, metrics\n",
    "    \n",
    "    # Now return the MMDs and baselines\n",
    "    return (\n",
    "        [\n",
    "            best_metrics[\"degree_mmd\"][\"values\"][0],\n",
    "            best_metrics[\"cluster_coef_mmd\"][\"values\"][0],\n",
    "#             best_metrics[\"spectra_mmd\"][\"values\"][0],\n",
    "            best_metrics[\"orbit_mmd\"][\"values\"][0]\n",
    "        ],\n",
    "        [\n",
    "            best_metrics[\"degree_mmd_baseline\"][\"values\"][0],\n",
    "            best_metrics[\"cluster_coef_mmd_baseline\"][\"values\"][0],\n",
    "#             best_metrics[\"spectra_mmd_baseline\"][\"values\"][0],\n",
    "            best_metrics[\"orbit_mmd_baseline\"][\"values\"][0]\n",
    "        ]\n",
    "    )"
   ]
  },
  {
   "cell_type": "code",
   "execution_count": 9,
   "id": "aa392c06",
   "metadata": {},
   "outputs": [
    {
     "name": "stdout",
     "output_type": "stream",
     "text": [
      "Warning: Did not find finished run in /gstore/home/tsenga5/discrete_graph_diffusion/models/trained_models/benchmark-nocache_sbm_edge-addition/3\n",
      "Warning: Did not find finished run in /gstore/home/tsenga5/discrete_graph_diffusion/models/trained_models/benchmark-nocache_sbm_edge-deletion/4\n",
      "Warning: Did not find finished run in /gstore/home/tsenga5/discrete_graph_diffusion/models/trained_models/benchmark-nocache_sbm_edge-deletion/1\n"
     ]
    }
   ],
   "source": [
    "# Import MMD and baseline values from training runs\n",
    "\n",
    "base_path = \"/gstore/home/tsenga5/discrete_graph_diffusion/models/trained_models/\"\n",
    "my_mmds_and_baselines = {\n",
    "    \"Community (small)\": {\n",
    "        \"Edge-flip\": get_best_mmds(os.path.join(base_path, \"benchmark-nocache_community-small_edge-flip\")),\n",
    "        \"Edge-one\": get_best_mmds(os.path.join(base_path, \"benchmark-nocache_community-small_edge-addition\")),\n",
    "        \"Edge-zero\": get_best_mmds(os.path.join(base_path, \"benchmark-nocache_community-small_edge-deletion\"))\n",
    "    },\n",
    "    \"Stochastic block models\": {\n",
    "        \"Edge-flip\": get_best_mmds(os.path.join(base_path, \"benchmark-nocache_sbm_edge-flip\")),\n",
    "        \"Edge-one\": get_best_mmds(os.path.join(base_path, \"benchmark-nocache_sbm_edge-addition\")),\n",
    "        \"Edge-zero\": get_best_mmds(os.path.join(base_path, \"benchmark-nocache_sbm_edge-deletion\"))\n",
    "    }\n",
    "}\n",
    "\n",
    "my_mmds = {d_key : {k_key : vals[0] for k_key, vals in d_dict.items()} for d_key, d_dict in my_mmds_and_baselines.items()}\n",
    "my_baselines = {d_key : {k_key : vals[1] for k_key, vals in d_dict.items()} for d_key, d_dict in my_mmds_and_baselines.items()}"
   ]
  },
  {
   "cell_type": "code",
   "execution_count": 13,
   "id": "667229b5",
   "metadata": {},
   "outputs": [],
   "source": [
    "benchmark_baselines = {  # From SPECTRE paper\n",
    "    \"Community (small)\": [0.02, 0.07, 0.01],\n",
    "    \"Stochastic block models\": [0.0008, 0.0332, 0.0255]\n",
    "}"
   ]
  },
  {
   "cell_type": "code",
   "execution_count": 15,
   "id": "90b38078",
   "metadata": {},
   "outputs": [
    {
     "name": "stdout",
     "output_type": "stream",
     "text": [
      "Community (small)\n",
      "Edge-flip & 0.0072 & 0.0319 & 0.0033 & 0.36 & 0.46 & 0.33 \\\\\n",
      "Edge-one & 0.1913 & 0.1332 & 0.2977 & 9.56 & 1.90 & 29.77 \\\\\n",
      "Edge-zero & 0.0171 & 0.0274 & 0.0046 & 0.85 & 0.39 & 0.46 \\\\\n",
      "=========================\n",
      "Stochastic block models\n",
      "Edge-flip & 0.0409 & 0.0359 & 0.0147 & 51.17 & 1.08 & 0.58 \\\\\n",
      "Edge-one & 0.0313 & 0.0328 & 0.0160 & 39.16 & 0.99 & 0.63 \\\\\n",
      "Edge-zero & 0.0013 & 0.0337 & 0.0168 & 1.59 & 1.02 & 0.66 \\\\\n",
      "=========================\n"
     ]
    }
   ],
   "source": [
    "# Print out results\n",
    "\n",
    "def print_vals(key, vals):\n",
    "    vals =  np.sqrt(vals)\n",
    "    print(\"%s & %.2f & %.2f & %.2f\" % (key, vals[0], vals[1], vals[3]))\n",
    "\n",
    "for d_key in my_mmds.keys():\n",
    "    print(d_key)    \n",
    "    for my_key, my_vals in my_mmds[d_key].items():\n",
    "        v = np.array(my_vals)\n",
    "        b = np.array(my_baselines[d_key][my_key])\n",
    "        b = np.array(benchmark_baselines[d_key])\n",
    "        s = my_key + \" & \"\n",
    "        s += \" & \".join([\"%.4f\" % x for x in v]) + \" & \"\n",
    "#         s += \" & \".join([\"%.4f\" % x for x in b]) + \" & \"\n",
    "        s += \" & \".join([\"%.2f\" % x for x in (v / b)]) + \" \\\\\\\\\"\n",
    "        print(s)\n",
    "    print(\"=========================\")"
   ]
  }
 ],
 "metadata": {
  "kernelspec": {
   "display_name": "Python 3 (ipykernel)",
   "language": "python",
   "name": "python3"
  },
  "language_info": {
   "codemirror_mode": {
    "name": "ipython",
    "version": 3
   },
   "file_extension": ".py",
   "mimetype": "text/x-python",
   "name": "python",
   "nbconvert_exporter": "python",
   "pygments_lexer": "ipython3",
   "version": "3.8.13"
  }
 },
 "nbformat": 4,
 "nbformat_minor": 5
}
