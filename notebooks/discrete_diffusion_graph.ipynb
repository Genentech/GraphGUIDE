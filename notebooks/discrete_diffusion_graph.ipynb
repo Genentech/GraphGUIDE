{
 "cells": [
  {
   "cell_type": "code",
   "execution_count": null,
   "id": "dfa7d757",
   "metadata": {},
   "outputs": [],
   "source": [
    "%load_ext autoreload\n",
    "%autoreload 2\n",
    "import sys\n",
    "sys.path.append(\"../src\")\n",
    "import feature.random_graph_dataset as random_graph_dataset\n",
    "import feature.graph_conversions as graph_conversions\n",
    "import model.discrete_diffusers as discrete_diffusers\n",
    "import model.generate as generate\n",
    "import model.gnn as gnn\n",
    "import torch\n",
    "import torch_geometric\n",
    "import networkx as nx\n",
    "import numpy as np\n",
    "import matplotlib.pyplot as plt\n",
    "import os\n",
    "import tqdm.notebook"
   ]
  },
  {
   "cell_type": "code",
   "execution_count": null,
   "id": "2197d890",
   "metadata": {},
   "outputs": [],
   "source": [
    "# Define device\n",
    "if torch.cuda.is_available():\n",
    "    DEVICE = \"cuda\"\n",
    "else:\n",
    "    DEVICE = \"cpu\""
   ]
  },
  {
   "cell_type": "markdown",
   "id": "58732aa9",
   "metadata": {},
   "source": [
    "### Create the data loader"
   ]
  },
  {
   "cell_type": "code",
   "execution_count": null,
   "id": "1206b06b",
   "metadata": {},
   "outputs": [],
   "source": [
    "# Create the data loader for training\n",
    "num_nodes, node_dim = 10, 5\n",
    "\n",
    "dataset = random_graph_dataset.RandomGraphDataset(\n",
    "    num_nodes, node_dim, num_items=6400,\n",
    "    graph_type=\"diverse_cliques\", clique_sizes=[3, 4, 5, 6], noise_level=0\n",
    ")\n",
    "data_loader = torch_geometric.loader.DataLoader(\n",
    "    dataset, batch_size=32, shuffle=False, num_workers=0  # TODO: allow multi-processing\n",
    ")"
   ]
  },
  {
   "cell_type": "markdown",
   "id": "6fc531e1",
   "metadata": {},
   "source": [
    "### Create the model"
   ]
  },
  {
   "cell_type": "code",
   "execution_count": null,
   "id": "6bc08266",
   "metadata": {},
   "outputs": [],
   "source": [
    "# Create the diffuser and model\n",
    "diffuser = discrete_diffusers.BernoulliDiffuser(100, 10, (1,))  # Make input shape just 1\n",
    "\n",
    "t_limit = 1000\n",
    "\n",
    "model = gnn.GraphLinkPredictor(node_dim, t_limit, num_gnn_layers=4).to(DEVICE)\n",
    "\n",
    "os.environ[\"MODEL_DIR\"] = \"/gstore/data/resbioai/tsenga5/discrete_graph_diffusion/models/trained_models/cliques\"\n",
    "\n",
    "import model.train_model as train_model  # Import this AFTER setting environment"
   ]
  },
  {
   "cell_type": "markdown",
   "id": "afda8b9c",
   "metadata": {},
   "source": [
    "### Show the forward-diffusion process"
   ]
  },
  {
   "cell_type": "code",
   "execution_count": null,
   "id": "679bb94f",
   "metadata": {
    "scrolled": true
   },
   "outputs": [],
   "source": [
    "# Check the NetworkX graphs in a batch directly from the data loader, and\n",
    "# after adding noise for a long time\n",
    "data = next(iter(data_loader))\n",
    "\n",
    "graphs_0 = graph_conversions.split_pyg_data_to_nx_graphs(data)\n",
    "\n",
    "e0, edge_batch_inds = graph_conversions.pyg_data_to_edge_vector(data, return_batch_inds=True)\n",
    "t_e = torch.tile(torch.tensor([t_limit], device=DEVICE), (e0.shape[0],))\n",
    "et = diffuser.forward(e0[:, None], t_e, return_posterior=False)[:, 0]  # Do the noising on E x 1 tensors\n",
    "data.edge_index = graph_conversions.edge_vector_to_pyg_data(data, et)\n",
    "\n",
    "graphs_t = graph_conversions.split_pyg_data_to_nx_graphs(data)\n",
    "\n",
    "for i in np.random.choice(len(graphs_0), replace=False, size=min(5, len(graphs_0))):\n",
    "    fig, ax = plt.subplots(ncols=2, figsize=(20, 4))\n",
    "    nx.draw(graphs_0[i], ax=ax[0], node_color=\"royalblue\")\n",
    "    nx.draw(graphs_t[i], ax=ax[1], node_color=\"darkorange\")\n",
    "    plt.show()"
   ]
  },
  {
   "cell_type": "code",
   "execution_count": null,
   "id": "a866dc45",
   "metadata": {},
   "outputs": [],
   "source": [
    "# Check progression of the number of cycles and edges\n",
    "er_num_cycles, er_num_edges = [], []\n",
    "for _ in range(500):\n",
    "    er_graph = nx.erdos_renyi_graph(int(np.mean(num_nodes)), 0.5)\n",
    "    er_num_cycles.append(len(nx.cycle_basis(er_graph)))\n",
    "    er_num_edges.append(nx.number_of_edges(er_graph))\n",
    "\n",
    "print(\"Expected cycles in limit: %.2f\" % np.mean(er_num_cycles))\n",
    "print(\"Expected edges in limit: %.2f\" % np.mean(er_num_edges))\n",
    "\n",
    "t_vals = np.arange(1, t_limit)\n",
    "num_cycles = np.empty((len(t_vals), data_loader.batch_size))\n",
    "num_edges = np.empty((len(t_vals), data_loader.batch_size))\n",
    "data = next(iter(data_loader))\n",
    "e0 = graph_conversions.pyg_data_to_edge_vector(data)\n",
    "for i, t in tqdm.notebook.tqdm(enumerate(t_vals), total=len(t_vals)):\n",
    "    t_tens = torch.tensor([t], device=DEVICE)\n",
    "    et = diffuser.forward(e0[None], t_tens, return_posterior=False)[0]  # Do the noising on 1 x E tensors\n",
    "    data.edge_index = graph_conversions.edge_vector_to_pyg_data(data, et)  # Note: this modifies `data`\n",
    "    \n",
    "    # Convert to a list of NetworkX graphs\n",
    "    graphs = graph_conversions.split_pyg_data_to_nx_graphs(data)\n",
    "    for j, g in enumerate(graphs):\n",
    "        num_cycles[i, j] = len(nx.cycle_basis(g))\n",
    "        num_edges[i, j] = nx.number_of_edges(g)\n",
    "\n",
    "fig, ax = plt.subplots(nrows=2, sharex=True, figsize=(20, 8))\n",
    "ax[0].plot(t_vals, np.mean(num_cycles, axis=1), color=\"royalblue\")\n",
    "ax[0].set_ylabel(\"Average number of cycles\")\n",
    "\n",
    "ax[1].plot(t_vals, np.mean(num_edges, axis=1), color=\"darkorange\")\n",
    "ax[1].set_ylabel(\"Average number of edges\")\n",
    "ax[1].set_xlabel(\"t\")\n",
    "\n",
    "ax[0].set_title(\"Actual progression of cycles and edges over forward diffusion\")\n",
    "plt.show()"
   ]
  },
  {
   "cell_type": "code",
   "execution_count": null,
   "id": "3889a905",
   "metadata": {},
   "outputs": [],
   "source": [
    "# Check progression of posterior probability\n",
    "t_vals = np.arange(1, t_limit)\n",
    "data = next(iter(data_loader))\n",
    "e0 = graph_conversions.pyg_data_to_edge_vector(data)\n",
    "posterior_probs = np.empty((len(t_vals), e0.shape[0]))\n",
    "for i, t in tqdm.notebook.tqdm(enumerate(t_vals), total=len(t_vals)):\n",
    "    t_tens = torch.tensor([t], device=DEVICE)\n",
    "    et, p = diffuser.forward(e0[None], t_tens)  # Do the noising on 1 x E tensors\n",
    "    et, p = et[0], p[0]\n",
    "    posterior_probs[i] = p.cpu().numpy()\n",
    "    \n",
    "fig, ax = plt.subplots(figsize=(20, 4))\n",
    "times = np.tile(t_vals[:, None], (1, posterior_probs.shape[1]))\n",
    "cmap = plt.get_cmap(\"magma\")\n",
    "bins = np.linspace(0, 1, 100)\n",
    "for t_i in range(len(t_vals)):\n",
    "    ax.hist(posterior_probs[t_i], bins=bins, histtype=\"step\", color=cmap(t_i / len(t_vals)), alpha=0.5)\n",
    "ax.set_xlabel(\"Posterior probability q(x_{t-1} | x_{t}, x_{0})\")\n",
    "ax.set_ylabel(\"Frequency\")\n",
    "ax.set_title(\"Evolution of posterior probability over time\")\n",
    "plt.show()"
   ]
  },
  {
   "cell_type": "markdown",
   "id": "613f348a",
   "metadata": {},
   "source": [
    "### Train the model"
   ]
  },
  {
   "cell_type": "code",
   "execution_count": null,
   "id": "aba3e376",
   "metadata": {
    "scrolled": true
   },
   "outputs": [],
   "source": [
    "train_model.train_ex.run(\n",
    "    \"train_graph_model\",\n",
    "    config_updates={\n",
    "        \"model\": model,\n",
    "        \"diffuser\": diffuser,\n",
    "        \"data_loader\": data_loader,\n",
    "        \"num_epochs\": 30,\n",
    "        \"learning_rate\": 0.01,\n",
    "        \"t_limit\": t_limit\n",
    "    }\n",
    ")"
   ]
  },
  {
   "cell_type": "markdown",
   "id": "3aea44b4",
   "metadata": {},
   "source": [
    "### Show generated graphs"
   ]
  },
  {
   "cell_type": "code",
   "execution_count": null,
   "id": "b4f1939f",
   "metadata": {},
   "outputs": [],
   "source": [
    "# Take the trained model and go backwards to sample some graphs\n",
    "print(\"Sampling some reverse trajectories\")\n",
    "\n",
    "# Sample from the prior\n",
    "data = next(iter(data_loader))\n",
    "edges = graph_conversions.pyg_data_to_edge_vector(data)\n",
    "sampled_edges = diffuser.sample_prior(\n",
    "    edges.shape[0], # Samples will be E x 1\n",
    "    torch.tile(torch.tensor([t_limit], device=DEVICE), edges.shape)\n",
    ")[:, 0]  # Shape: E\n",
    "data.edge_index = graph_conversions.edge_vector_to_pyg_data(data, sampled_edges)\n",
    "\n",
    "samples, times = generate.generate_graph_samples(\n",
    "    model, diffuser, data, t_limit=t_limit, return_all_times=True\n",
    ")\n",
    "times = times.cpu().numpy()\n",
    "# Split samples into individual graphs\n",
    "graph_samples = [\n",
    "    graph_conversions.split_pyg_data_to_nx_graphs(sample)\n",
    "    for sample in samples\n",
    "]"
   ]
  },
  {
   "cell_type": "code",
   "execution_count": null,
   "id": "74859b69",
   "metadata": {},
   "outputs": [],
   "source": [
    "# Check progression of the number of cycles and edges\n",
    "num_cycles = np.empty((len(graph_samples), len(graph_samples[0])))\n",
    "num_edges = np.empty((len(graph_samples), len(graph_samples[0])))\n",
    "for i in range(len(graph_samples)):\n",
    "    for j, g in enumerate(graph_samples[i]):\n",
    "        num_cycles[i, j] = len(nx.cycle_basis(g))\n",
    "        num_edges[i, j] = nx.number_of_edges(g)\n",
    "\n",
    "fig, ax = plt.subplots(nrows=2, sharex=True, figsize=(20, 8))\n",
    "ax[0].plot(np.arange(len(graph_samples)), np.mean(num_cycles, axis=1), color=\"royalblue\")\n",
    "ax[0].set_ylabel(\"Average number of cycles\")\n",
    "\n",
    "ax[1].plot(np.arange(len(graph_samples)), np.mean(num_edges, axis=1), color=\"darkorange\")\n",
    "ax[1].set_ylabel(\"Average number of edges\")\n",
    "ax[1].set_xlabel(\"Denoising progress\")\n",
    "\n",
    "ax[0].set_title(\"Actual progression of cycles and edges over reverse diffusion\")\n",
    "plt.show()"
   ]
  },
  {
   "cell_type": "code",
   "execution_count": null,
   "id": "9441f9ad",
   "metadata": {
    "scrolled": true
   },
   "outputs": [],
   "source": [
    "# Plot some randomly generated graphs\n",
    "for i in range(len(graph_samples[-1])):\n",
    "    print(i)\n",
    "    nx.draw(graph_samples[-1][i])\n",
    "    plt.show()"
   ]
  },
  {
   "cell_type": "code",
   "execution_count": null,
   "id": "ff7e3259",
   "metadata": {
    "scrolled": true
   },
   "outputs": [],
   "source": [
    "i = 30\n",
    "num_to_show = 20\n",
    "time_inds = np.arange(0, len(times), len(times) // num_to_show)\n",
    "time_inds[-1] = len(times) - 1\n",
    "for t_i in time_inds:\n",
    "    print(times[t_i])\n",
    "    nx.draw(graph_samples[t_i][i])\n",
    "    plt.show()"
   ]
  }
 ],
 "metadata": {
  "kernelspec": {
   "display_name": "Python 3 (ipykernel)",
   "language": "python",
   "name": "python3"
  },
  "language_info": {
   "codemirror_mode": {
    "name": "ipython",
    "version": 3
   },
   "file_extension": ".py",
   "mimetype": "text/x-python",
   "name": "python",
   "nbconvert_exporter": "python",
   "pygments_lexer": "ipython3",
   "version": "3.8.13"
  }
 },
 "nbformat": 4,
 "nbformat_minor": 5
}
