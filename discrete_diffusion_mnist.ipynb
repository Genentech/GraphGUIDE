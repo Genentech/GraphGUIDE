{
 "cells": [
  {
   "cell_type": "code",
   "execution_count": 1,
   "id": "dfa7d757",
   "metadata": {},
   "outputs": [],
   "source": [
    "import networkx as nx\n",
    "import torch\n",
    "import torchvision\n",
    "import numpy as np\n",
    "import matplotlib.pyplot as plt\n",
    "import tqdm.notebook"
   ]
  },
  {
   "cell_type": "code",
   "execution_count": 2,
   "id": "2197d890",
   "metadata": {},
   "outputs": [],
   "source": [
    "# Define device\n",
    "if torch.cuda.is_available():\n",
    "    DEVICE = \"cuda\"\n",
    "else:\n",
    "    DEVICE = \"cpu\""
   ]
  },
  {
   "cell_type": "code",
   "execution_count": 3,
   "id": "92472a4b",
   "metadata": {},
   "outputs": [],
   "source": [
    "def beta_func(t):\n",
    "    \"\"\"\n",
    "    Maps a tensor of times `t` to particular noise levels beta.\n",
    "    Arguments:\n",
    "        `t`: a tensor of times\n",
    "    Returns an equivalently shaped tensor of beta values.\n",
    "    \"\"\"\n",
    "    return torch.sigmoid((t / 6) - 8)\n",
    "\n",
    "\n",
    "def beta_bar_func(t):\n",
    "    \"\"\"\n",
    "    Maps a tensor of times `t` to beta-bar values. If each beta is a probability\n",
    "    of a flip at some particular time, then beta-bar is the probability of a\n",
    "    flip from 0 until this `t`.\n",
    "    Arguments:\n",
    "        `t`: a B-tensor of times\n",
    "    Returns a B-tensor of beta-bar values.\n",
    "    \"\"\"\n",
    "    max_range = torch.arange(1, torch.max(t) + 1, device=DEVICE)\n",
    "    betas = beta_func(max_range)  # Shape: maxT\n",
    "\n",
    "    betas_tiled = torch.tile(betas, (t.shape[0], 1))  # Shape: B x maxT\n",
    "    biases = 0.5 - betas_tiled\n",
    "\n",
    "    # Anything that ran over a time t, set to 1\n",
    "    mask = max_range[None] > t[:, None]\n",
    "    biases[mask] = 1\n",
    "\n",
    "    prod = torch.prod(biases, dim=1)\n",
    "    return 0.5 - (torch.pow(2, t - 1) * prod)"
   ]
  },
  {
   "cell_type": "code",
   "execution_count": 4,
   "id": "371f434c",
   "metadata": {},
   "outputs": [],
   "source": [
    "def _inflate_dims(v, num_dims):\n",
    "    \"\"\"\n",
    "    Given a tensor vector `v`, appends dimensions of size 1 so that\n",
    "    it has `num_dims` dimensions. Forexample, if `num_dims` is 3,\n",
    "    this turns `v` from a B-tensor to a B x 1 x 1 tensor.\n",
    "    Arguments:\n",
    "        `v`: a B-tensor\n",
    "        `num_dims`: an integer greater than 1\n",
    "    Returns a B x ... tensor of dimension `num_dims`.\n",
    "    \"\"\"\n",
    "    return v[(slice(None),) + ((None,) * (num_dims - 1))]"
   ]
  },
  {
   "cell_type": "code",
   "execution_count": 5,
   "id": "6abf980e",
   "metadata": {},
   "outputs": [],
   "source": [
    "def noise_input(x0, t):\n",
    "    \"\"\"\n",
    "    Given a binary input at time 0, return a version of the input that\n",
    "    has noise added to it at time `t` based on random bit flips.\n",
    "    Arguments:\n",
    "        `x0`: a binary B x ... tensor of bits at time 0\n",
    "        `t`: time to add noise to, a B-tensor\n",
    "    Returns a new binary B x ... tensor, and leaves the originals untouched.\n",
    "    \"\"\"\n",
    "    prob_flip = torch.tile(\n",
    "        _inflate_dims(beta_bar_func(t), len(x0.shape)), (1, *x0.shape[1:])\n",
    "    )\n",
    "    \n",
    "    flip_indicators = torch.bernoulli(prob_flip)\n",
    "\n",
    "    # Perform flips\n",
    "    xt = x0.clone()\n",
    "    mask = flip_indicators == 1\n",
    "    xt[mask] = 1 - x0[mask]\n",
    "\n",
    "    return xt"
   ]
  },
  {
   "cell_type": "code",
   "execution_count": 6,
   "id": "93832436",
   "metadata": {},
   "outputs": [],
   "source": [
    "def posterior_prob(x0, xt, t):\n",
    "    \"\"\"\n",
    "    Compute the probability of an edge at time t - 1, given the edges at time 0\n",
    "    and t.\n",
    "    Arguments:\n",
    "        `x0`: a binary B x ... tensor at time 0\n",
    "        `xt`: a binary B x ... tensor at time t\n",
    "        `t`: B-tensor of times\n",
    "    Returns a B x ... tensor of probabilities that a bit would be 1 at time\n",
    "    t - 1.\n",
    "    \"\"\"\n",
    "    beta_t = _inflate_dims(beta_func(t), len(x0.shape))\n",
    "    beta_bar_t = _inflate_dims(beta_bar_func(t), len(x0.shape))\n",
    "    beta_bar_t_1 = _inflate_dims(beta_bar_func(t - 1), len(x0.shape))\n",
    "\n",
    "    term_1 = ((1 - xt) * beta_t) + (xt * (1 - beta_t))\n",
    "    term_2 = ((1 - x0) * beta_bar_t_1) + (x0 * (1 - beta_bar_t_1))\n",
    "    x0_xor_xt = torch.square(x0 - xt)\n",
    "    term_3 = (x0_xor_xt * beta_bar_t) + ((1 - x0_xor_xt) * (1 - beta_bar_t))\n",
    "\n",
    "    return term_1 * term_2 / term_3"
   ]
  },
  {
   "cell_type": "code",
   "execution_count": 7,
   "id": "6e83358e",
   "metadata": {},
   "outputs": [],
   "source": [
    "class ProbUNet(torch.nn.Module):\n",
    "\n",
    "    def __init__(\n",
    "        self, channels=[32, 64, 128, 256], time_embed_size=256, data_channels=1\n",
    "    ):\n",
    "        \"\"\"\n",
    "        Initialize a time-dependent U-net which predicts bit probabilities.\n",
    "        Arguments:\n",
    "            `channels`: the number of channels in each \"layer\" of the U-net\n",
    "            `time_embed_size`: size of the time embeddings\n",
    "            `data_channels`: number of channels in input image\n",
    "        Note this architecture assumes the initial depth of the images is 1.\n",
    "        \"\"\"\n",
    "        super().__init__()\n",
    "                \n",
    "        # Random embedding layer for time; the random weights are set at the\n",
    "        # start and are not trainable\n",
    "        self.time_embed_rand_weights = torch.nn.Parameter(\n",
    "            torch.randn(time_embed_size // 2) * 30, requires_grad=False\n",
    "        )\n",
    "        self.time_embed_dense = torch.nn.Linear(time_embed_size, time_embed_size)\n",
    "        \n",
    "        # Encoders: receptive field increases and depth increases\n",
    "        self.conv_e1 = torch.nn.Conv2d(data_channels, channels[0], kernel_size=3, stride=1, bias=False)\n",
    "        self.time_dense_e1 = torch.nn.Linear(time_embed_size, channels[0])\n",
    "        self.norm_e1 = torch.nn.GroupNorm(4, num_channels=channels[0])\n",
    "        \n",
    "        self.conv_e2 = torch.nn.Conv2d(channels[0], channels[1], kernel_size=3, stride=2, bias=False)\n",
    "        self.time_dense_e2 = torch.nn.Linear(time_embed_size, channels[1])\n",
    "        self.norm_e2 = torch.nn.GroupNorm(32, num_channels=channels[1])\n",
    "        \n",
    "        self.conv_e3 = torch.nn.Conv2d(channels[1], channels[2], kernel_size=3, stride=2, bias=False)\n",
    "        self.time_dense_e3 = torch.nn.Linear(time_embed_size, channels[2])\n",
    "        self.norm_e3 = torch.nn.GroupNorm(32, num_channels=channels[2])\n",
    "        \n",
    "        self.conv_e4 = torch.nn.Conv2d(channels[2], channels[3], kernel_size=3, stride=2, bias=False)\n",
    "        self.time_dense_e4 = torch.nn.Linear(time_embed_size, channels[3])\n",
    "        self.norm_e4 = torch.nn.GroupNorm(32, num_channels=channels[3])   \n",
    "\n",
    "        # Decoders: depth decreases\n",
    "        self.conv_d4 = torch.nn.ConvTranspose2d(channels[3], channels[2], 3, stride=2, bias=False)\n",
    "        self.time_dense_d4 = torch.nn.Linear(time_embed_size, channels[2])\n",
    "        self.norm_d4 = torch.nn.GroupNorm(32, num_channels=channels[2])\n",
    "        \n",
    "        self.conv_d3 = torch.nn.ConvTranspose2d(channels[2] * 2, channels[1], 3, stride=2, output_padding=1, bias=False)\n",
    "        self.time_dense_d3 = torch.nn.Linear(time_embed_size, channels[1])\n",
    "        self.norm_d3 = torch.nn.GroupNorm(32, num_channels=channels[1])\n",
    "        \n",
    "        self.conv_d2 = torch.nn.ConvTranspose2d(channels[1] * 2, channels[0], 3, stride=2, output_padding=1, bias=False)\n",
    "        self.time_dense_d2 = torch.nn.Linear(time_embed_size, channels[0])\n",
    "        self.norm_d2 = torch.nn.GroupNorm(32, num_channels=channels[0])\n",
    "        \n",
    "        self.conv_d1 = torch.nn.ConvTranspose2d(channels[0] * 2, data_channels, 3, stride=1, bias=True)\n",
    "\n",
    "        # Activation functions\n",
    "        self.swish = lambda x: x * torch.sigmoid(x)  # Swish activation: x * sigmoid(x)\n",
    "        \n",
    "    def forward(self, xt, t):\n",
    "        \"\"\"\n",
    "        Forward pass of the network.\n",
    "        Arguments:\n",
    "            `xt`: B x 1 x H x W tensor containing the images to train on\n",
    "            `t`: B-tensor containing the times to train the network for each\n",
    "                image\n",
    "        Returns a B x 1 x H x W tensor which consists of predicted probabilities.\n",
    "        \"\"\"\n",
    "        # Get the time embeddings for `t`\n",
    "        # We first sample vector z from some zero-mean Gaussian (of fixed variance),\n",
    "        # and then we embed the time as cos(2 * pi * t * z) and sin(2 * pi * t * z)\n",
    "        time_embed_args = t[:, None] * self.time_embed_rand_weights[None, :] * 2 * np.pi\n",
    "        # Shape: B x (E / 2)\n",
    "        time_embed = self.swish(\n",
    "            torch.cat([torch.sin(time_embed_args), torch.cos(time_embed_args)], dim=1)\n",
    "        )\n",
    "        # Shape: B x E\n",
    "        \n",
    "        # Encoding\n",
    "        enc_1_out = self.swish(self.norm_e1(\n",
    "            self.conv_e1(xt) + self.time_dense_e1(time_embed)[:, :, None, None]\n",
    "        ))\n",
    "        enc_2_out = self.swish(self.norm_e2(\n",
    "            self.conv_e2(enc_1_out) + self.time_dense_e2(time_embed)[:, :, None, None]\n",
    "        ))\n",
    "        enc_3_out = self.swish(self.norm_e3(\n",
    "            self.conv_e3(enc_2_out) + self.time_dense_e3(time_embed)[:, :, None, None]\n",
    "        ))\n",
    "        enc_4_out = self.swish(self.norm_e4(\n",
    "            self.conv_e4(enc_3_out) + self.time_dense_e4(time_embed)[:, :, None, None]\n",
    "        ))\n",
    "            \n",
    "        # Decoding\n",
    "        dec_4_out = self.swish(self.norm_d4(\n",
    "            self.conv_d4(enc_4_out) + self.time_dense_d4(time_embed)[:, :, None, None]\n",
    "        ))\n",
    "        dec_3_out = self.swish(self.norm_d3(\n",
    "            self.conv_d3(torch.cat([dec_4_out, enc_3_out], dim=1)) + self.time_dense_d3(time_embed)[:, :, None, None]\n",
    "        ))\n",
    "        dec_2_out = self.swish(self.norm_d2(\n",
    "            self.conv_d2(torch.cat([dec_3_out, enc_2_out], dim=1)) + self.time_dense_d2(time_embed)[:, :, None, None]\n",
    "        ))\n",
    "        dec_1_out = self.conv_d1(torch.cat([dec_2_out, enc_1_out], dim=1))\n",
    "        \n",
    "        return torch.sigmoid(dec_1_out)\n",
    "\n",
    "    def loss(self, pred_probs, true_probs):\n",
    "        \"\"\"\n",
    "        Computes the loss of a batch.\n",
    "        Arguments:\n",
    "            `pred_probs`: a B x 1 x H x W tensor of predicted\n",
    "                probabilities\n",
    "            `true_probs`: a B x 1 x H x W tensor of true\n",
    "                probabilities\n",
    "        Returns a B-tensor of loss values.\n",
    "        \"\"\"\n",
    "        return torch.nanmean(\n",
    "            (true_probs * torch.log(true_probs / pred_probs)) +\n",
    "            ((1 - true_probs) * torch.log((1 - true_probs) / (1 - pred_probs))),\n",
    "            dim=(1, 2, 3)\n",
    "        )"
   ]
  },
  {
   "cell_type": "code",
   "execution_count": 8,
   "id": "4df8a23a",
   "metadata": {},
   "outputs": [],
   "source": [
    "def train_model(model, data_loader, t_limit, num_epochs, learning_rate):\n",
    "    \"\"\"\n",
    "    Trains a ProbUNet model.\n",
    "    Arguments:\n",
    "        `model`: an initialized ProbUNet model\n",
    "        `data_loader`: a DataLoader which iterates over batches of\n",
    "            discretized images and labels (labels will be unused)\n",
    "        `t_limit`: maximum time range for noising\n",
    "        `num_epochs`: number of epochs to train for\n",
    "        `learning_rate`: learning rate to use for training\n",
    "    \"\"\"\n",
    "    optimizer = torch.optim.Adam(model.parameters(), lr=learning_rate)\n",
    "    model.train()\n",
    "    torch.set_grad_enabled(True)\n",
    "\n",
    "    for epoch_num in range(num_epochs):\n",
    "        losses = []\n",
    "        t_iter = tqdm.notebook.tqdm(\n",
    "            data_loader, total=len(data_loader), desc=\"Loss: -----\"\n",
    "        )\n",
    "\n",
    "        for x0, _ in t_iter:\n",
    "            x0 = x0.to(DEVICE)\n",
    "\n",
    "            # Pick some random times t between 1 and t_limit (inclusive)\n",
    "            t = torch.randint(\n",
    "                t_limit, size=(x0.shape[0],), device=DEVICE\n",
    "            ) + 1\n",
    "\n",
    "            # Add noise to inputs from time 0 to time t\n",
    "            xt = noise_input(x0, t)\n",
    "\n",
    "            # Compute posterior probability of bits\n",
    "            true_probs = posterior_prob(x0, xt, t)\n",
    "\n",
    "            # Have model try and predict posterior probability\n",
    "            pred_probs = model(xt, t)\n",
    "\n",
    "            loss = torch.mean(model.loss(pred_probs, true_probs))\n",
    "            \n",
    "            if not np.isfinite(loss.item()):\n",
    "                continue\n",
    "            \n",
    "            optimizer.zero_grad()\n",
    "            loss.backward()\n",
    "            optimizer.step()\n",
    "\n",
    "            t_iter.set_description(\n",
    "                \"Loss: %6.5f\" % loss.item()\n",
    "            )\n",
    "            losses.append(loss.item())\n",
    "\n",
    "        print(\"Epoch %d average loss: %.5f\" % (epoch_num + 1, np.mean(losses)))\n",
    "        torch.save(model.state_dict(), \"ckpt.pth\")"
   ]
  },
  {
   "cell_type": "code",
   "execution_count": 9,
   "id": "3859c80f",
   "metadata": {},
   "outputs": [],
   "source": [
    "image_to_tensor = torchvision.transforms.ToTensor()\n",
    "dataset = torchvision.datasets.MNIST(\n",
    "    '/gstore/data/resbioai/tsenga5/', train=True, transform=(lambda x: torch.round(image_to_tensor(x)))\n",
    ")\n",
    "data_loader = torch.utils.data.DataLoader(dataset, batch_size=32, shuffle=True, num_workers=2)\n",
    "\n",
    "t_limit = 50"
   ]
  },
  {
   "cell_type": "code",
   "execution_count": 10,
   "id": "39a01234",
   "metadata": {},
   "outputs": [],
   "source": [
    "def plot_digits(x, num_to_plot=10, title=None):\n",
    "    fig, ax = plt.subplots(ncols=num_to_plot, figsize=(20, 4))\n",
    "    for i in range(num_to_plot):\n",
    "        ax[i].imshow(x[i].permute(1, 2, 0), cmap=\"gray\")\n",
    "        ax[i].axis('off')\n",
    "    if title:\n",
    "        ax[0].set_title(title)\n",
    "    plt.show()"
   ]
  },
  {
   "cell_type": "code",
   "execution_count": 11,
   "id": "1206b06b",
   "metadata": {},
   "outputs": [
    {
     "data": {
      "image/png": "[encoded data removed]",
      "text/plain": [
       "<Figure size 1440x288 with 10 Axes>"
      ]
     },
     "metadata": {
      "needs_background": "light"
     },
     "output_type": "display_data"
    },
    {
     "data": {
      "image/png": "[encoded data removed]",
      "text/plain": [
       "<Figure size 1440x288 with 10 Axes>"
      ]
     },
     "metadata": {
      "needs_background": "light"
     },
     "output_type": "display_data"
    },
    {
     "data": {
      "image/png": "[encoded data removed]",
      "text/plain": [
       "<Figure size 1440x288 with 10 Axes>"
      ]
     },
     "metadata": {
      "needs_background": "light"
     },
     "output_type": "display_data"
    },
    {
     "data": {
      "image/png": "[encoded data removed]",
      "text/plain": [
       "<Figure size 1440x288 with 10 Axes>"
      ]
     },
     "metadata": {
      "needs_background": "light"
     },
     "output_type": "display_data"
    },
    {
     "data": {
      "image/png": "[encoded data removed]",
      "text/plain": [
       "<Figure size 1440x288 with 10 Axes>"
      ]
     },
     "metadata": {
      "needs_background": "light"
     },
     "output_type": "display_data"
    },
    {
     "data": {
      "image/png": "[encoded data removed]",
      "text/plain": [
       "<Figure size 1440x288 with 10 Axes>"
      ]
     },
     "metadata": {
      "needs_background": "light"
     },
     "output_type": "display_data"
    }
   ],
   "source": [
    "# Plot some examples of noised images\n",
    "x0, _ = next(iter(data_loader))\n",
    "    \n",
    "plot_digits(np.clip(x0, 0, 1), title=\"t = 0\")\n",
    "x0 = x0.to(DEVICE)\n",
    "for t in (1, 5, 10, 25, t_limit):\n",
    "    xt = noise_input(x0, torch.full(x0.shape[:1], t).to(DEVICE))\n",
    "    plot_digits(torch.clamp(xt, 0, 1).cpu(), title=(\"t = %d\" % t))"
   ]
  },
  {
   "cell_type": "code",
   "execution_count": 12,
   "id": "8577935d",
   "metadata": {},
   "outputs": [
    {
     "data": {
      "application/vnd.jupyter.widget-view+json": {
       "model_id": "a7d11be7e04c4d4cb4879517bf243069",
       "version_major": 2,
       "version_minor": 0
      },
      "text/plain": [
       "  0%|          | 0/49 [00:00<?, ?it/s]"
      ]
     },
     "metadata": {},
     "output_type": "display_data"
    },
    {
     "data": {
      "image/png": "[encoded data removed]",
      "text/plain": [
       "<Figure size 1440x576 with 1 Axes>"
      ]
     },
     "metadata": {
      "needs_background": "light"
     },
     "output_type": "display_data"
    }
   ],
   "source": [
    "# Check progression of posterior probability\n",
    "t_vals = np.arange(1, t_limit)\n",
    "x0, _ = next(iter(data_loader))\n",
    "posterior_probs = np.empty((len(t_vals), *x0.shape))\n",
    "x0 = x0.to(DEVICE)\n",
    "t_0 = torch.zeros(x0.shape[0], device=DEVICE)\n",
    "for i, t in tqdm.notebook.tqdm(enumerate(t_vals), total=len(t_vals)):\n",
    "    t_tens = torch.ones(x0.shape[0], device=DEVICE) * t\n",
    "    xt = noise_input(x0, t_tens)\n",
    "    p = posterior_prob(x0, xt, t_tens)\n",
    "    posterior_probs[i] = p.cpu().numpy()\n",
    "    \n",
    "fig, ax = plt.subplots(figsize=(20, 8))\n",
    "posterior_probs_flattened = posterior_probs.reshape(posterior_probs.shape[0], -1)\n",
    "times = np.tile(t_vals[:, None], (1, posterior_probs_flattened.shape[1]))\n",
    "cmap = plt.get_cmap(\"magma\")\n",
    "for t_i in range(len(t_vals)):\n",
    "    ax.hist(posterior_probs_flattened[t_i], bins=60, histtype=\"step\", color=cmap(t_i / len(t_vals)), alpha=0.5)\n",
    "ax.set_xlabel(\"Posterior probability q(x_{t-1} | x_{t}, x_{0})\")\n",
    "ax.set_ylabel(\"Frequency\")\n",
    "ax.set_title(\"Evolution of posterior probability over time\")\n",
    "plt.show()"
   ]
  },
  {
   "cell_type": "code",
   "execution_count": 13,
   "id": "aba3e376",
   "metadata": {},
   "outputs": [
    {
     "data": {
      "application/vnd.jupyter.widget-view+json": {
       "model_id": "8ce0320a0ea844fb9c0f697e7b733365",
       "version_major": 2,
       "version_minor": 0
      },
      "text/plain": [
       "Loss: -----:   0%|          | 0/1875 [00:00<?, ?it/s]"
      ]
     },
     "metadata": {},
     "output_type": "display_data"
    },
    {
     "name": "stdout",
     "output_type": "stream",
     "text": [
      "Epoch 1 average loss: 0.01271\n"
     ]
    },
    {
     "data": {
      "application/vnd.jupyter.widget-view+json": {
       "model_id": "7e058f1a25a84bc499780837935915be",
       "version_major": 2,
       "version_minor": 0
      },
      "text/plain": [
       "Loss: -----:   0%|          | 0/1875 [00:00<?, ?it/s]"
      ]
     },
     "metadata": {},
     "output_type": "display_data"
    },
    {
     "name": "stdout",
     "output_type": "stream",
     "text": [
      "Epoch 2 average loss: 0.00358\n"
     ]
    },
    {
     "data": {
      "application/vnd.jupyter.widget-view+json": {
       "model_id": "e9e9699263744fc2948b7c013a623fe9",
       "version_major": 2,
       "version_minor": 0
      },
      "text/plain": [
       "Loss: -----:   0%|          | 0/1875 [00:00<?, ?it/s]"
      ]
     },
     "metadata": {},
     "output_type": "display_data"
    },
    {
     "name": "stdout",
     "output_type": "stream",
     "text": [
      "Epoch 3 average loss: 0.00301\n"
     ]
    },
    {
     "data": {
      "application/vnd.jupyter.widget-view+json": {
       "model_id": "ceb2d4382c94413db904afb61be56b3a",
       "version_major": 2,
       "version_minor": 0
      },
      "text/plain": [
       "Loss: -----:   0%|          | 0/1875 [00:00<?, ?it/s]"
      ]
     },
     "metadata": {},
     "output_type": "display_data"
    },
    {
     "name": "stdout",
     "output_type": "stream",
     "text": [
      "Epoch 4 average loss: 0.00276\n"
     ]
    },
    {
     "data": {
      "application/vnd.jupyter.widget-view+json": {
       "model_id": "51e6db7fc27145adaad93c3d43dd8bb7",
       "version_major": 2,
       "version_minor": 0
      },
      "text/plain": [
       "Loss: -----:   0%|          | 0/1875 [00:00<?, ?it/s]"
      ]
     },
     "metadata": {},
     "output_type": "display_data"
    },
    {
     "name": "stdout",
     "output_type": "stream",
     "text": [
      "Epoch 5 average loss: 0.00261\n"
     ]
    },
    {
     "data": {
      "application/vnd.jupyter.widget-view+json": {
       "model_id": "4daba96d46f74c82a1e135cee45a1898",
       "version_major": 2,
       "version_minor": 0
      },
      "text/plain": [
       "Loss: -----:   0%|          | 0/1875 [00:00<?, ?it/s]"
      ]
     },
     "metadata": {},
     "output_type": "display_data"
    },
    {
     "name": "stdout",
     "output_type": "stream",
     "text": [
      "Epoch 6 average loss: 0.00252\n"
     ]
    },
    {
     "data": {
      "application/vnd.jupyter.widget-view+json": {
       "model_id": "6bf9021c2bb4436fa49f469540d38384",
       "version_major": 2,
       "version_minor": 0
      },
      "text/plain": [
       "Loss: -----:   0%|          | 0/1875 [00:00<?, ?it/s]"
      ]
     },
     "metadata": {},
     "output_type": "display_data"
    },
    {
     "name": "stdout",
     "output_type": "stream",
     "text": [
      "Epoch 7 average loss: 0.00243\n"
     ]
    },
    {
     "data": {
      "application/vnd.jupyter.widget-view+json": {
       "model_id": "81f208aaf1d4457c92481adc2d46d8f7",
       "version_major": 2,
       "version_minor": 0
      },
      "text/plain": [
       "Loss: -----:   0%|          | 0/1875 [00:00<?, ?it/s]"
      ]
     },
     "metadata": {},
     "output_type": "display_data"
    },
    {
     "name": "stdout",
     "output_type": "stream",
     "text": [
      "Epoch 8 average loss: 0.00236\n"
     ]
    },
    {
     "data": {
      "application/vnd.jupyter.widget-view+json": {
       "model_id": "d03bd5ab482f4c72a274a2bb308fe907",
       "version_major": 2,
       "version_minor": 0
      },
      "text/plain": [
       "Loss: -----:   0%|          | 0/1875 [00:00<?, ?it/s]"
      ]
     },
     "metadata": {},
     "output_type": "display_data"
    },
    {
     "name": "stdout",
     "output_type": "stream",
     "text": [
      "Epoch 9 average loss: 0.00232\n"
     ]
    },
    {
     "data": {
      "application/vnd.jupyter.widget-view+json": {
       "model_id": "4bd2d07c58784d6dacfda6c663c0ce6e",
       "version_major": 2,
       "version_minor": 0
      },
      "text/plain": [
       "Loss: -----:   0%|          | 0/1875 [00:00<?, ?it/s]"
      ]
     },
     "metadata": {},
     "output_type": "display_data"
    },
    {
     "name": "stdout",
     "output_type": "stream",
     "text": [
      "Epoch 10 average loss: 0.00231\n"
     ]
    }
   ],
   "source": [
    "model = ProbUNet().to(DEVICE)\n",
    "train_model(\n",
    "    model, data_loader,\n",
    "    t_limit=t_limit,\n",
    "    num_epochs=10,\n",
    "    learning_rate=0.001\n",
    ")"
   ]
  },
  {
   "cell_type": "code",
   "execution_count": 16,
   "id": "b4f1939f",
   "metadata": {},
   "outputs": [
    {
     "name": "stdout",
     "output_type": "stream",
     "text": [
      "Sampling some reverse trajectories\n"
     ]
    },
    {
     "data": {
      "application/vnd.jupyter.widget-view+json": {
       "model_id": "452146990edf44fc9fd0c3e109470df2",
       "version_major": 2,
       "version_minor": 0
      },
      "text/plain": [
       "  0%|          | 0/48 [00:00<?, ?it/s]"
      ]
     },
     "metadata": {},
     "output_type": "display_data"
    },
    {
     "data": {
      "image/png": "[encoded data removed]",
      "text/plain": [
       "<Figure size 1440x288 with 10 Axes>"
      ]
     },
     "metadata": {
      "needs_background": "light"
     },
     "output_type": "display_data"
    }
   ],
   "source": [
    "# Take the trained model and go backwards to sample some digits\n",
    "print(\"Sampling some reverse trajectories\")\n",
    "torch.set_grad_enabled(False)\n",
    "\n",
    "batch_size = 32\n",
    "xt = np.random.randint(2, size=(batch_size, 1, 28, 28)).astype(float)\n",
    "xt = torch.tensor(xt).float().to(DEVICE)\n",
    "\n",
    "for t in tqdm.notebook.trange(t_limit - 1, 1, -1):\n",
    "    probs = model(xt, torch.ones(batch_size, device=DEVICE) * t)\n",
    "    \n",
    "    xt = torch.bernoulli(probs)\n",
    "\n",
    "plot_digits(xt.cpu(), num_to_plot=10)"
   ]
  }
 ],
 "metadata": {
  "kernelspec": {
   "display_name": "Python 3 (ipykernel)",
   "language": "python",
   "name": "python3"
  },
  "language_info": {
   "codemirror_mode": {
    "name": "ipython",
    "version": 3
   },
   "file_extension": ".py",
   "mimetype": "text/x-python",
   "name": "python",
   "nbconvert_exporter": "python",
   "pygments_lexer": "ipython3",
   "version": "3.9.12"
  }
 },
 "nbformat": 4,
 "nbformat_minor": 5
}
